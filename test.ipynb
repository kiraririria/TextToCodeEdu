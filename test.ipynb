{
 "cells": [
  {
   "cell_type": "code",
   "execution_count": 6,
   "id": "82189fd0",
   "metadata": {},
   "outputs": [
    {
     "name": "stdout",
     "output_type": "stream",
     "text": [
      "Package                   Version\n",
      "------------------------- -----------\n",
      "anyio                     4.2.0\n",
      "argon2-cffi               21.3.0\n",
      "argon2-cffi-bindings      21.2.0\n",
      "asttokens                 2.0.5\n",
      "async-lru                 2.0.4\n",
      "attrs                     24.2.0\n",
      "Babel                     2.11.0\n",
      "backcall                  0.2.0\n",
      "beautifulsoup4            4.12.3\n",
      "bleach                    4.1.0\n",
      "Brotli                    1.0.9\n",
      "certifi                   2024.8.30\n",
      "cffi                      1.17.1\n",
      "charset-normalizer        3.3.2\n",
      "colorama                  0.4.6\n",
      "comm                      0.2.1\n",
      "debugpy                   1.6.7\n",
      "decorator                 5.1.1\n",
      "defusedxml                0.7.1\n",
      "exceptiongroup            1.2.0\n",
      "executing                 0.8.3\n",
      "fastjsonschema            2.16.2\n",
      "h11                       0.14.0\n",
      "httpcore                  1.0.2\n",
      "httpx                     0.27.0\n",
      "idna                      3.7\n",
      "importlib-metadata        7.0.1\n",
      "importlib_resources       6.4.0\n",
      "ipykernel                 6.29.5\n",
      "ipython                   8.12.2\n",
      "jedi                      0.19.1\n",
      "Jinja2                    3.1.4\n",
      "json5                     0.9.6\n",
      "jsonschema                4.23.0\n",
      "jsonschema-specifications 2023.7.1\n",
      "jupyter_client            8.6.0\n",
      "jupyter_core              5.7.2\n",
      "jupyter-events            0.10.0\n",
      "jupyter-lsp               2.2.0\n",
      "jupyter_server            2.14.1\n",
      "jupyter_server_terminals  0.4.4\n",
      "jupyterlab                4.2.5\n",
      "jupyterlab-pygments       0.1.2\n",
      "jupyterlab_server         2.27.3\n",
      "keras                     2.10.0\n",
      "Keras-Preprocessing       1.1.2\n",
      "MarkupSafe                2.1.3\n",
      "matplotlib-inline         0.1.6\n",
      "mistune                   2.0.4\n",
      "mkl-fft                   1.3.8\n",
      "mkl-random                1.2.4\n",
      "mkl-service               2.4.0\n",
      "nbclient                  0.8.0\n",
      "nbconvert                 7.16.4\n",
      "nbformat                  5.10.4\n",
      "nest-asyncio              1.6.0\n",
      "notebook                  7.2.2\n",
      "notebook_shim             0.2.3\n",
      "numpy                     1.24.3\n",
      "overrides                 7.4.0\n",
      "packaging                 24.1\n",
      "pandocfilters             1.5.0\n",
      "parso                     0.8.3\n",
      "pickleshare               0.7.5\n",
      "pip                       24.2\n",
      "pkgutil_resolve_name      1.3.10\n",
      "platformdirs              3.10.0\n",
      "pooch                     1.7.0\n",
      "prometheus-client         0.14.1\n",
      "prompt-toolkit            3.0.43\n",
      "psutil                    5.9.0\n",
      "pure-eval                 0.2.2\n",
      "pycparser                 2.21\n",
      "Pygments                  2.15.1\n",
      "PySocks                   1.7.1\n",
      "python-dateutil           2.9.0.post0\n",
      "python-json-logger        2.0.7\n",
      "pytz                      2024.1\n",
      "pywin32                   305.1\n",
      "pywinpty                  2.0.10\n",
      "PyYAML                    6.0.2\n",
      "pyzmq                     25.1.2\n",
      "referencing               0.30.2\n",
      "requests                  2.32.3\n",
      "rfc3339-validator         0.1.4\n",
      "rfc3986-validator         0.1.1\n",
      "rpds-py                   0.10.6\n",
      "scipy                     1.10.1\n",
      "Send2Trash                1.8.2\n",
      "setuptools                75.1.0\n",
      "six                       1.16.0\n",
      "sniffio                   1.3.0\n",
      "soupsieve                 2.5\n",
      "stack-data                0.2.0\n",
      "terminado                 0.17.1\n",
      "tinycss2                  1.2.1\n",
      "tomli                     2.0.1\n",
      "tornado                   6.4.1\n",
      "traitlets                 5.14.3\n",
      "typing_extensions         4.11.0\n",
      "urllib3                   2.2.3\n",
      "wcwidth                   0.2.5\n",
      "webencodings              0.5.1\n",
      "websocket-client          1.8.0\n",
      "wheel                     0.44.0\n",
      "win-inet-pton             1.1.0\n",
      "zipp                      3.20.2\n"
     ]
    }
   ],
   "source": [
    "!pip list "
   ]
  },
  {
   "cell_type": "code",
   "execution_count": null,
   "id": "52688b41",
   "metadata": {},
   "outputs": [],
   "source": [
    "%pip install pandas"
   ]
  },
  {
   "cell_type": "code",
   "execution_count": 1,
   "id": "b86a8479",
   "metadata": {},
   "outputs": [],
   "source": [
    "import os\n",
    "import time\n",
    "import math\n",
    "import random\n",
    "import datetime\n",
    "from pathlib import Path\n",
    "import os\n",
    "import json\n",
    "import pandas as pd"
   ]
  },
  {
   "cell_type": "code",
   "execution_count": 2,
   "id": "4a2f9b05",
   "metadata": {},
   "outputs": [
    {
     "name": "stdout",
     "output_type": "stream",
     "text": [
      "{'text': 'Write a function to find the minimum cost path to reach (m, n) from (0, 0) for the given cost matrix cost[][] and a position (m, n) in cost[][].', 'code': 'R = 3\\r\\nC = 3\\r\\ndef min_cost(cost, m, n): \\r\\n\\ttc = [[0 for x in range(C)] for x in range(R)] \\r\\n\\ttc[0][0] = cost[0][0] \\r\\n\\tfor i in range(1, m+1): \\r\\n\\t\\ttc[i][0] = tc[i-1][0] + cost[i][0] \\r\\n\\tfor j in range(1, n+1): \\r\\n\\t\\ttc[0][j] = tc[0][j-1] + cost[0][j] \\r\\n\\tfor i in range(1, m+1): \\r\\n\\t\\tfor j in range(1, n+1): \\r\\n\\t\\t\\ttc[i][j] = min(tc[i-1][j-1], tc[i-1][j], tc[i][j-1]) + cost[i][j] \\r\\n\\treturn tc[m][n]', 'task_id': 1, 'test_setup_code': '', 'test_list': ['assert min_cost([[1, 2, 3], [4, 8, 2], [1, 5, 3]], 2, 2) == 8', 'assert min_cost([[2, 3, 4], [5, 9, 3], [2, 6, 4]], 2, 2) == 12', 'assert min_cost([[3, 4, 5], [6, 10, 4], [3, 7, 5]], 2, 2) == 16'], 'challenge_test_list': []}\n"
     ]
    }
   ],
   "source": [
    "mbpp = []\n",
    "\n",
    "with open('D:/Projects/KirariRiria/ttc/mbpp.jsonl','r') as file:\n",
    "    for line in file:\n",
    "        data = json.loads(line)\n",
    "        mbpp.append(data)\n",
    "    \n",
    "print(mbpp[0])"
   ]
  },
  {
   "cell_type": "code",
   "execution_count": 3,
   "id": "70078ec3",
   "metadata": {},
   "outputs": [],
   "source": [
    "mbpp_df = pd.DataFrame(mbpp)"
   ]
  },
  {
   "cell_type": "code",
   "execution_count": 4,
   "id": "f6f0d8fd",
   "metadata": {},
   "outputs": [
    {
     "name": "stdout",
     "output_type": "stream",
     "text": [
      "<class 'pandas.core.frame.DataFrame'>\n",
      "RangeIndex: 974 entries, 0 to 973\n",
      "Data columns (total 6 columns):\n",
      " #   Column               Non-Null Count  Dtype \n",
      "---  ------               --------------  ----- \n",
      " 0   text                 974 non-null    object\n",
      " 1   code                 974 non-null    object\n",
      " 2   task_id              974 non-null    int64 \n",
      " 3   test_setup_code      974 non-null    object\n",
      " 4   test_list            974 non-null    object\n",
      " 5   challenge_test_list  974 non-null    object\n",
      "dtypes: int64(1), object(5)\n",
      "memory usage: 45.8+ KB\n"
     ]
    }
   ],
   "source": [
    "mbpp_df.info()"
   ]
  },
  {
   "cell_type": "code",
   "execution_count": null,
   "id": "405ca4fb",
   "metadata": {},
   "outputs": [],
   "source": []
  }
 ],
 "metadata": {
  "kernelspec": {
   "display_name": "Python 3 (ipykernel)",
   "language": "python",
   "name": "python3"
  },
  "language_info": {
   "codemirror_mode": {
    "name": "ipython",
    "version": 3
   },
   "file_extension": ".py",
   "mimetype": "text/x-python",
   "name": "python",
   "nbconvert_exporter": "python",
   "pygments_lexer": "ipython3",
   "version": "3.8.20"
  }
 },
 "nbformat": 4,
 "nbformat_minor": 5
}
